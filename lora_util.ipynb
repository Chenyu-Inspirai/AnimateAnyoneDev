{
 "cells": [
  {
   "cell_type": "code",
   "execution_count": null,
   "metadata": {},
   "outputs": [],
   "source": [
    "import sys\n",
    "sys.path.append('/cephfs/SZ-AI/usr/liuchenyu/HaiLook/Moore-AnimateAnyone')\n",
    "sys.path.append('/cephfs/SZ-AI/usr/liuchenyu/HaiLook/Moore-AnimateAnyone/tools')\n",
    "\n",
    "from omegaconf import OmegaConf\n",
    "from src.models.unet_2d_condition import UNet2DConditionModel\n",
    "from src.models.unet_3d import UNet3DConditionModel\n",
    "\n",
    "import torch\n",
    "import os"
   ]
  },
  {
   "cell_type": "code",
   "execution_count": null,
   "metadata": {},
   "outputs": [],
   "source": [
    "cfg = OmegaConf.load(\"/cephfs/SZ-AI/usr/liuchenyu/HaiLook/Moore-AnimateAnyone/configs/train/stage2.yaml\")\n",
    "infer_config = OmegaConf.load('/cephfs/SZ-AI/usr/liuchenyu/HaiLook/Moore-AnimateAnyone/configs/inference/inference_v2.yaml')"
   ]
  },
  {
   "cell_type": "code",
   "execution_count": null,
   "metadata": {},
   "outputs": [],
   "source": [
    "denoising_unet = UNet3DConditionModel.from_pretrained_2d(\n",
    "        \"/cephfs/SZ-AI/usr/liuchenyu/HaiLook/Moore-AnimateAnyone/pretrained_weights/stable-diffusion-v1-5\",\n",
    "        cfg.mm_path,\n",
    "        subfolder=\"unet\",\n",
    "        unet_additional_kwargs=OmegaConf.to_container(\n",
    "            infer_config.unet_additional_kwargs\n",
    "        ),\n",
    "    ).to(device=\"cuda\")"
   ]
  },
  {
   "cell_type": "code",
   "execution_count": null,
   "metadata": {},
   "outputs": [],
   "source": [
    "denoising_unet.load_state_dict(\n",
    "        torch.load(\n",
    "            os.path.join(cfg.stage1_ckpt_dir, f\"denoising_unet-{cfg.stage1_ckpt_step}.pth\"),\n",
    "            map_location=\"cpu\",\n",
    "        ),\n",
    "        strict=False,\n",
    "    )"
   ]
  },
  {
   "cell_type": "code",
   "execution_count": null,
   "metadata": {},
   "outputs": [],
   "source": [
    "denoising_unet"
   ]
  },
  {
   "cell_type": "code",
   "execution_count": null,
   "metadata": {},
   "outputs": [],
   "source": [
    "from src.utils.lora_handler import LoraHandler\n",
    "lora_manager = LoraHandler(use_unet_lora=True, unet_replace_modules=[\"TemporalTransformerBlock\"])\n",
    "unet_lora_params, _ = lora_manager.add_lora_to_model(\n",
    "        True, denoising_unet, lora_manager.unet_replace_modules, 0,\n",
    "        '' , r=64)"
   ]
  },
  {
   "cell_type": "code",
   "execution_count": null,
   "metadata": {},
   "outputs": [],
   "source": [
    "len(unet_lora_params)"
   ]
  }
 ],
 "metadata": {
  "kernelspec": {
   "display_name": "animateAnyone",
   "language": "python",
   "name": "python3"
  },
  "language_info": {
   "codemirror_mode": {
    "name": "ipython",
    "version": 3
   },
   "file_extension": ".py",
   "mimetype": "text/x-python",
   "name": "python",
   "nbconvert_exporter": "python",
   "pygments_lexer": "ipython3",
   "version": "3.10.13"
  }
 },
 "nbformat": 4,
 "nbformat_minor": 2
}
