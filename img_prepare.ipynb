{
 "cells": [
  {
   "cell_type": "code",
   "execution_count": 2,
   "metadata": {},
   "outputs": [],
   "source": [
    "from PIL import Image"
   ]
  },
  {
   "cell_type": "code",
   "execution_count": 3,
   "metadata": {},
   "outputs": [],
   "source": [
    "def crop_and_resize(image_path, output_path, new_size):\n",
    "    # Open an image file\n",
    "    with Image.open(image_path) as img:\n",
    "        # Calculate the center point\n",
    "        center = (img.width // 2, img.height // 2)\n",
    "        half_width, half_height = new_size[0] // 2, new_size[1] // 2\n",
    "\n",
    "        # Define the cropping box\n",
    "        box = (\n",
    "            center[0] - half_width, \n",
    "            center[1] - half_height, \n",
    "            center[0] + half_width, \n",
    "            center[1] + half_height\n",
    "        )\n",
    "\n",
    "        # Crop the image\n",
    "        cropped_img = img.crop(box)\n",
    "\n",
    "        # Resize the image\n",
    "        resized_img = cropped_img.resize(new_size, Image.ANTIALIAS)\n",
    "\n",
    "        # Save the new image\n",
    "        resized_img.save(output_path)"
   ]
  },
  {
   "cell_type": "code",
   "execution_count": 4,
   "metadata": {},
   "outputs": [],
   "source": [
    "input_img = 'configs/inference/ref_images/20240117-162355.jpg'\n",
    "\n",
    "output = 'configs/inference/ref_images/croped_0.png'"
   ]
  },
  {
   "cell_type": "code",
   "execution_count": 6,
   "metadata": {},
   "outputs": [
    {
     "name": "stderr",
     "output_type": "stream",
     "text": [
      "/tmp/ipykernel_2725/346276583.py:20: DeprecationWarning: ANTIALIAS is deprecated and will be removed in Pillow 10 (2023-07-01). Use LANCZOS or Resampling.LANCZOS instead.\n",
      "  resized_img = cropped_img.resize(new_size, Image.ANTIALIAS)\n"
     ]
    },
    {
     "ename": "",
     "evalue": "",
     "output_type": "error",
     "traceback": [
      "\u001b[1;31mThe Kernel crashed while executing code in the the current cell or a previous cell. Please review the code in the cell(s) to identify a possible cause of the failure. Click <a href='https://aka.ms/vscodeJupyterKernelCrash'>here</a> for more info. View Jupyter <a href='command:jupyter.viewOutput'>log</a> for further details."
     ]
    }
   ],
   "source": [
    "crop_and_resize(input_img, output, (512, 784))"
   ]
  }
 ],
 "metadata": {
  "kernelspec": {
   "display_name": "animateAnyone",
   "language": "python",
   "name": "python3"
  },
  "language_info": {
   "codemirror_mode": {
    "name": "ipython",
    "version": 3
   },
   "file_extension": ".py",
   "mimetype": "text/x-python",
   "name": "python",
   "nbconvert_exporter": "python",
   "pygments_lexer": "ipython3",
   "version": "3.10.13"
  }
 },
 "nbformat": 4,
 "nbformat_minor": 2
}
