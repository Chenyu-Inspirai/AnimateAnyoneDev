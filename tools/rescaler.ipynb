{
 "cells": [
  {
   "cell_type": "code",
   "execution_count": null,
   "metadata": {},
   "outputs": [],
   "source": [
    "import cv2\n",
    "import numpy as np\n",
    "\n",
    "import sys\n",
    "sys.path.append('/cephfs/SZ-AI/usr/liuchenyu/HaiLook/Moore-AnimateAnyone')\n",
    "sys.path.append('/cephfs/SZ-AI/usr/liuchenyu/HaiLook/Moore-AnimateAnyone/tools')\n",
    "\n",
    "from src.utils.util import get_fps, read_frames, save_videos_from_pil\n",
    "\n",
    "from src.dwpose import DWposeDetector, draw_pose\n",
    "from controlnet_aux.util import HWC3, resize_image\n",
    "from PIL import Image\n",
    "import matplotlib.pyplot as plt\n",
    "from openpose_rescaler import draw, rescale_skeleton, crop_and_resize\n",
    "from src.dataset.dance_video_aug import HumanDanceVideoAugDataset\n",
    "import openpose_rescaler\n",
    "import importlib\n",
    "from tqdm import tqdm"
   ]
  },
  {
   "cell_type": "code",
   "execution_count": null,
   "metadata": {},
   "outputs": [],
   "source": [
    "# Load a dwpose detector\n",
    "detector = DWposeDetector()\n",
    "detector = detector.to('cuda')"
   ]
  },
  {
   "cell_type": "code",
   "execution_count": null,
   "metadata": {},
   "outputs": [],
   "source": [
    "# Load Image\n",
    "ref_image_file = '/cephfs/SZ-AI/usr/liuchenyu/HaiLook/Moore-AnimateAnyone/configs/inference/ref_images/bella_upper.jpg'\n",
    "\n",
    "H = 512\n",
    "W = 512\n",
    "\n",
    "ref_image = cv2.resize(np.array(Image.open(ref_image_file)), (H,W))\n",
    "\n",
    "ref_pose, score, ref_pose_keypoints = detector(ref_image, output_type='key_points')\n",
    "score = np.mean(score, axis=-1)"
   ]
  },
  {
   "cell_type": "code",
   "execution_count": null,
   "metadata": {},
   "outputs": [],
   "source": [
    "source = ref_pose_keypoints\n",
    "source_body = np.array(source[\"bodies\"][\"candidate\"])\n",
    "for i in range(len(source_body)):\n",
    "    if source[\"bodies\"][\"subset\"][0][i] == -1:\n",
    "        source_body[i] = np.array([-1., -1.])"
   ]
  },
  {
   "cell_type": "code",
   "execution_count": null,
   "metadata": {},
   "outputs": [],
   "source": [
    "fig, axs = plt.subplots(1, 2, figsize=(15, 8))\n",
    "axs[0].imshow(ref_image)\n",
    "axs[1].imshow(ref_pose)\n",
    "axs[0].axis('off')\n",
    "axs[1].axis('off')"
   ]
  },
  {
   "cell_type": "code",
   "execution_count": null,
   "metadata": {},
   "outputs": [],
   "source": [
    "# Load video\n",
    "video_file = '/cephfs/SZ-AI/usr/liuchenyu/HaiLook/TikTok_dataset/TikTok_vid/00050.mp4'\n",
    "\n",
    "driving_vid = read_frames(video_file)\n",
    "\n",
    "a = Image.fromarray(cv2.resize(np.array(driving_vid[44]), (W, H), interpolation=cv2.INTER_LINEAR))\n",
    "a"
   ]
  },
  {
   "cell_type": "code",
   "execution_count": null,
   "metadata": {},
   "outputs": [],
   "source": [
    "driving_pose = []\n",
    "scores = []\n",
    "vid_key_points = []\n",
    "\n",
    "for frame in tqdm(driving_vid):\n",
    "    frame = cv2.resize(np.array(frame), (W, H), interpolation=cv2.INTER_LINEAR)\n",
    "    pose, score, keypoints = detector(frame, output_type='key_points')\n",
    "    driving_pose.append(pose)\n",
    "    score = np.mean(score, axis=-1)\n",
    "    scores.append(score)\n",
    "    vid_key_points.append(keypoints)\n",
    "    "
   ]
  },
  {
   "cell_type": "code",
   "execution_count": null,
   "metadata": {},
   "outputs": [],
   "source": [
    "importlib.reload(openpose_rescaler)\n",
    "from openpose_rescaler import draw, rescale_skeleton, crop_and_resize"
   ]
  },
  {
   "cell_type": "code",
   "execution_count": null,
   "metadata": {},
   "outputs": [],
   "source": [
    "idx = 122\n",
    "source = vid_key_points[idx]\n",
    "targ = ref_pose_keypoints\n",
    "res = rescale_skeleton(source, targ)\n",
    "res_pose_img = draw(res, W, H)\n",
    "\n",
    "fig, axs = plt.subplots(1, 3, figsize=(15, 8))\n",
    "axs[0].imshow(ref_pose)\n",
    "axs[1].imshow(driving_pose[idx])\n",
    "axs[2].imshow(res_pose_img)\n",
    "axs[0].axis('off')\n",
    "axs[1].axis('off')\n",
    "axs[2].axis('off')\n",
    "plt.show()"
   ]
  },
  {
   "cell_type": "code",
   "execution_count": null,
   "metadata": {},
   "outputs": [],
   "source": [
    "# for i in range(60):\n",
    "#     idx = i\n",
    "#     source = vid_key_points[idx]\n",
    "#     targ = ref_pose_keypoints\n",
    "#     res = rescale_skeleton(source, targ)\n",
    "#     res_pose_img = draw(res, W, H)\n",
    "#     print(i)\n",
    "#     fig, axs = plt.subplots(1, 3, figsize=(15, 8))\n",
    "#     axs[0].imshow(ref_pose)\n",
    "#     axs[1].imshow(driving_pose[idx])\n",
    "#     axs[2].imshow(res_pose_img)\n",
    "#     axs[0].axis('off')\n",
    "#     axs[1].axis('off')\n",
    "#     axs[2].axis('off')\n",
    "#     plt.show()"
   ]
  },
  {
   "cell_type": "code",
   "execution_count": null,
   "metadata": {},
   "outputs": [],
   "source": [
    "#videos\n",
    "processed_pose_vid = []\n",
    "targ = ref_pose_keypoints\n",
    "for frame in tqdm(vid_key_points):\n",
    "    new_frame = rescale_skeleton(frame, targ)\n",
    "    processed_pose_vid.append(draw(new_frame, H, W))\n",
    "    # targ = new_frame\n"
   ]
  },
  {
   "cell_type": "code",
   "execution_count": null,
   "metadata": {},
   "outputs": [],
   "source": [
    "face = vid_key_points[0][\"faces\"]"
   ]
  },
  {
   "cell_type": "code",
   "execution_count": null,
   "metadata": {},
   "outputs": [],
   "source": [
    "face.shape"
   ]
  },
  {
   "cell_type": "code",
   "execution_count": null,
   "metadata": {},
   "outputs": [],
   "source": [
    "name = \"wop_skeleton_rescale_freezeRef\"\n",
    "\n",
    "out_path = '/cephfs/SZ-AI/usr/liuchenyu/HaiLook/Moore-AnimateAnyone/output/exps/' + name + '.mp4'\n",
    "\n",
    "save_videos_from_pil(processed_pose_vid, out_path, fps=30)"
   ]
  },
  {
   "cell_type": "code",
   "execution_count": null,
   "metadata": {},
   "outputs": [],
   "source": [
    "name = \"wop_skeleton\"\n",
    "\n",
    "out_path = '/cephfs/SZ-AI/usr/liuchenyu/HaiLook/Moore-AnimateAnyone/output/exps/' + name + '.mp4'\n",
    "\n",
    "save_videos_from_pil(driving_pose, out_path, fps=30)"
   ]
  }
 ],
 "metadata": {
  "kernelspec": {
   "display_name": "animateAnyone",
   "language": "python",
   "name": "python3"
  },
  "language_info": {
   "codemirror_mode": {
    "name": "ipython",
    "version": 3
   },
   "file_extension": ".py",
   "mimetype": "text/x-python",
   "name": "python",
   "nbconvert_exporter": "python",
   "pygments_lexer": "ipython3",
   "version": "3.10.13"
  }
 },
 "nbformat": 4,
 "nbformat_minor": 2
}
