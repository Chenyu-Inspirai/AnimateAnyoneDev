{
 "cells": [
  {
   "cell_type": "code",
   "execution_count": 1,
   "metadata": {},
   "outputs": [
    {
     "name": "stderr",
     "output_type": "stream",
     "text": [
      "/root/miniconda3/envs/animateAnyone/lib/python3.10/site-packages/tqdm/auto.py:21: TqdmWarning: IProgress not found. Please update jupyter and ipywidgets. See https://ipywidgets.readthedocs.io/en/stable/user_install.html\n",
      "  from .autonotebook import tqdm as notebook_tqdm\n",
      "/root/miniconda3/envs/animateAnyone/lib/python3.10/site-packages/controlnet_aux/mediapipe_face/mediapipe_face_common.py:7: UserWarning: The module 'mediapipe' is not installed. The package will have limited functionality. Please install it using the command: pip install 'mediapipe'\n",
      "  warnings.warn(\n",
      "/root/miniconda3/envs/animateAnyone/lib/python3.10/site-packages/controlnet_aux/segment_anything/modeling/tiny_vit_sam.py:654: UserWarning: Overwriting tiny_vit_5m_224 in registry with controlnet_aux.segment_anything.modeling.tiny_vit_sam.tiny_vit_5m_224. This is because the name being registered conflicts with an existing name. Please check if this is not expected.\n",
      "  return register_model(fn_wrapper)\n",
      "/root/miniconda3/envs/animateAnyone/lib/python3.10/site-packages/controlnet_aux/segment_anything/modeling/tiny_vit_sam.py:654: UserWarning: Overwriting tiny_vit_11m_224 in registry with controlnet_aux.segment_anything.modeling.tiny_vit_sam.tiny_vit_11m_224. This is because the name being registered conflicts with an existing name. Please check if this is not expected.\n",
      "  return register_model(fn_wrapper)\n",
      "/root/miniconda3/envs/animateAnyone/lib/python3.10/site-packages/controlnet_aux/segment_anything/modeling/tiny_vit_sam.py:654: UserWarning: Overwriting tiny_vit_21m_224 in registry with controlnet_aux.segment_anything.modeling.tiny_vit_sam.tiny_vit_21m_224. This is because the name being registered conflicts with an existing name. Please check if this is not expected.\n",
      "  return register_model(fn_wrapper)\n",
      "/root/miniconda3/envs/animateAnyone/lib/python3.10/site-packages/controlnet_aux/segment_anything/modeling/tiny_vit_sam.py:654: UserWarning: Overwriting tiny_vit_21m_384 in registry with controlnet_aux.segment_anything.modeling.tiny_vit_sam.tiny_vit_21m_384. This is because the name being registered conflicts with an existing name. Please check if this is not expected.\n",
      "  return register_model(fn_wrapper)\n",
      "/root/miniconda3/envs/animateAnyone/lib/python3.10/site-packages/controlnet_aux/segment_anything/modeling/tiny_vit_sam.py:654: UserWarning: Overwriting tiny_vit_21m_512 in registry with controlnet_aux.segment_anything.modeling.tiny_vit_sam.tiny_vit_21m_512. This is because the name being registered conflicts with an existing name. Please check if this is not expected.\n",
      "  return register_model(fn_wrapper)\n"
     ]
    }
   ],
   "source": [
    "import os\n",
    "import shutil\n",
    "import sys\n",
    "import tqdm\n",
    "from PIL import Image\n",
    "sys.path.append('/cephfs/SZ-AI/usr/liuchenyu/HaiLook/Moore-AnimateAnyone')\n",
    "sys.path.append('/cephfs/SZ-AI/usr/liuchenyu/HaiLook/Moore-AnimateAnyone/tools')\n",
    "\n",
    "from src.dwpose import DWposeDetector\n",
    "from src.utils.util import get_fps, read_frames, save_videos_from_pil\n",
    "\n",
    "from tools.extract_dwpose_from_vid import process_batch_videos\n",
    "import concurrent.futures\n"
   ]
  },
  {
   "cell_type": "code",
   "execution_count": 51,
   "metadata": {},
   "outputs": [],
   "source": [
    "def list_files(path):\n",
    "    \"\"\"List all directories under the given path.\"\"\"\n",
    "    if os.path.exists(path) and os.path.isdir(path):\n",
    "        all_files_and_dirs = os.listdir(path)\n",
    "        directories = [d for d in all_files_and_dirs if os.path.isfile(os.path.join(path, d))]\n",
    "        return directories"
   ]
  },
  {
   "cell_type": "code",
   "execution_count": 57,
   "metadata": {},
   "outputs": [],
   "source": [
    "vid = set(list_files('/cephfs/SZ-AI/usr/liuchenyu/HaiLook/hdtf_data'))\n",
    "dw = set(list_files('/cephfs/SZ-AI/usr/liuchenyu/HaiLook/hdtf_data_dwpose'))"
   ]
  },
  {
   "cell_type": "code",
   "execution_count": 58,
   "metadata": {},
   "outputs": [
    {
     "name": "stdout",
     "output_type": "stream",
     "text": [
      "401 401\n"
     ]
    }
   ],
   "source": [
    "print(len(vid), len(dw))"
   ]
  },
  {
   "cell_type": "code",
   "execution_count": 54,
   "metadata": {},
   "outputs": [],
   "source": [
    "to_do = list(vid-dw)\n",
    "for i in range(len(to_do)):\n",
    "    to_do[i]= '/cephfs/SZ-AI/usr/liuchenyu/HaiLook/hdtf_data/' + to_do[i]"
   ]
  },
  {
   "cell_type": "code",
   "execution_count": 55,
   "metadata": {},
   "outputs": [],
   "source": [
    "root_dir= '/cephfs/SZ-AI/usr/liuchenyu/HaiLook/hdtf_data'\n",
    "save_dir = '/cephfs/SZ-AI/usr/liuchenyu/HaiLook/hdtf_data_dwpose'"
   ]
  },
  {
   "cell_type": "code",
   "execution_count": 56,
   "metadata": {},
   "outputs": [
    {
     "name": "stdout",
     "output_type": "stream",
     "text": [
      "Process 0/3 video\n",
      "WDA_ByronDorgan1_000.mp4 /cephfs/SZ-AI/usr/liuchenyu/HaiLook/hdtf_data/WDA_ByronDorgan1_000.mp4 /cephfs/SZ-AI/usr/liuchenyu/HaiLook/hdtf_data\n",
      "Process 1/3 video\n",
      "WDA_ZoeLofgren_000.mp4 /cephfs/SZ-AI/usr/liuchenyu/HaiLook/hdtf_data/WDA_ZoeLofgren_000.mp4 /cephfs/SZ-AI/usr/liuchenyu/HaiLook/hdtf_data\n",
      "Process 2/3 video\n",
      "WRA_LynnJenkins_001.mp4 /cephfs/SZ-AI/usr/liuchenyu/HaiLook/hdtf_data/WRA_LynnJenkins_001.mp4 /cephfs/SZ-AI/usr/liuchenyu/HaiLook/hdtf_data\n"
     ]
    }
   ],
   "source": [
    "process_batch_videos(to_do, detector, save_dir=save_dir, root_dir=root_dir)"
   ]
  }
 ],
 "metadata": {
  "kernelspec": {
   "display_name": "animateAnyone",
   "language": "python",
   "name": "python3"
  },
  "language_info": {
   "codemirror_mode": {
    "name": "ipython",
    "version": 3
   },
   "file_extension": ".py",
   "mimetype": "text/x-python",
   "name": "python",
   "nbconvert_exporter": "python",
   "pygments_lexer": "ipython3",
   "version": "3.10.13"
  }
 },
 "nbformat": 4,
 "nbformat_minor": 2
}
